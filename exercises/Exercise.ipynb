{
 "cells": [
  {
   "cell_type": "markdown",
   "id": "b2947a8c",
   "metadata": {},
   "source": [
    "# Week-05 exercise\n",
    "\n",
    "The exercises of this notebook contains several case studies based on different datasets. Please do consider the methods and approaches we introduced in the [Preparation for exercise]() to conduct the analysis. Additional regression assumption tests and utilising ression model to make prediction are also introduced in this notebook."
   ]
  },
  {
   "cell_type": "code",
   "execution_count": null,
   "id": "36103c35",
   "metadata": {},
   "outputs": [],
   "source": [
    "# importing all the package we need in this notebook\n",
    "\n",
    "import pandas as pd\n",
    "import seaborn as sns\n",
    "import statsmodels.formula.api as smf\n",
    "import statsmodels.api as sm\n",
    "from statsmodels.formula.api import ols"
   ]
  },
  {
   "cell_type": "markdown",
   "id": "85777f34",
   "metadata": {},
   "source": [
    "## Case 1 - Background\n",
    "\n",
    "Many companies manufacture products that are at least partially produced using chemicals (e.g., paint, gasoline, and steel). In many cases, the quality of the finished product is a function of the temperature and pressure at which the chemical reactions take place. Suppose that a particular manufacturer wants to model the quality (Y) of a product as a function of the temperature (X1) and the pressure (X2) at which it is produced. \n",
    "\n",
    "The dataset `In_Class_Exercise_1_Product Quality.csv` contains data obtained from a carefully designed experiment involving these variables. Note that the assigned quality score can range from a minimum of 0 to a maximum of 100 for each manufactured product.\n",
    "\n",
    "**Please do check the variable names (either through `dataframe.head()` or directly checking the csv file) before specifying the model - Case Sensitive**"
   ]
  },
  {
   "cell_type": "markdown",
   "id": "c0c5c604",
   "metadata": {},
   "source": [
    "### Question 1-a \n",
    "Estimate a multiple regression equation that includes the two given explanatory variables. Does the estimated equation fit the data well?"
   ]
  },
  {
   "cell_type": "code",
   "execution_count": null,
   "id": "10cc62ec",
   "metadata": {},
   "outputs": [],
   "source": [
    "#Solution\n",
    "\n"
   ]
  },
  {
   "cell_type": "markdown",
   "id": "caceeafa",
   "metadata": {},
   "source": [
    "### Question 1-b\n",
    "\n",
    "Add an interaction term between temperature and pressure and run the regression again. \n",
    "\n",
    "Does the inclusion of the interaction term improve the model’s goodness of fit?"
   ]
  },
  {
   "cell_type": "code",
   "execution_count": null,
   "id": "fdbd9c68",
   "metadata": {},
   "outputs": [],
   "source": [
    "#Solution\n",
    "\n"
   ]
  },
  {
   "cell_type": "markdown",
   "id": "c4b9578a",
   "metadata": {},
   "source": [
    "### Question 1-c\n",
    "\n",
    "Interpret each of the estimated coefficients in the two equations. How are they different?\n",
    "How do you interpret the coefficient for the interaction term in the second equation?"
   ]
  },
  {
   "cell_type": "markdown",
   "id": "e0d0fe0d",
   "metadata": {},
   "source": [
    "<font size=4><center>**Enter your answer of question 1-c in this cell**</center></font>\n",
    "\n",
    "_Indicative example for part of the expected interpretation: As the temperature increases by one degree and the pressure remains constant, the mean quality score rises by 7.086 - 0.145*Pressure._\n",
    "\n",
    "<u>Click the cell and input the rest of your answer below:</u>\n",
    "\n",
    "\n",
    "\n",
    "\n"
   ]
  },
  {
   "cell_type": "markdown",
   "id": "0f8026b4",
   "metadata": {},
   "source": [
    "## Case 2 - Background\n",
    "\n",
    "A power company located in southern Alabama wants to predict the peak power load (i.e., the maximum amount of power that must be generated each day to meet demand) as a function of the daily high temperature (X). A random sample of summer days is chosen, and the peak power load and the high temperature are recorded each day. \n",
    "\n",
    "The dataset `In_Class_Exercise_2_Alabama Company.csv` contains these observations."
   ]
  },
  {
   "cell_type": "markdown",
   "id": "417615bf",
   "metadata": {},
   "source": [
    "### Question 2-a \n",
    "Create a scatterplot for these data. Comment on the observed relationship between Y and X."
   ]
  },
  {
   "cell_type": "code",
   "execution_count": null,
   "id": "3e671d84",
   "metadata": {},
   "outputs": [],
   "source": [
    "#Solution\n",
    "\n"
   ]
  },
  {
   "cell_type": "markdown",
   "id": "0ce7aad0",
   "metadata": {},
   "source": [
    "### Question 2-b\n",
    "Estimate an appropriate regression equation to predict the peak power load for this power company. Interpret the estimated regression coefficients.\n",
    "\n",
    "**The `statsmodel` may report errors if your the variable name contains space. Please use the following indicative example to rename the variables.**"
   ]
  },
  {
   "cell_type": "code",
   "execution_count": null,
   "id": "6661a4e7",
   "metadata": {},
   "outputs": [],
   "source": [
    "#Indicative example\n",
    "df = pd.DataFrame({'A': [11, 21, 31],\n",
    "                   'B': [12, 22, 32],\n",
    "                   'C': [13, 23, 33]},\n",
    "                  index=['ONE', 'TWO', 'THREE'])\n",
    "\n",
    "print(df)\n",
    "#         A   B   C\n",
    "# ONE    11  12  13\n",
    "# TWO    21  22  23\n",
    "# THREE  31  32  33\n",
    "\n",
    "#You can either specify a new datafram df_new....\n",
    "df_new = df.rename(columns={'A': 'Col_1', 'C': 'Col_3'})\n",
    "print(df_new)\n",
    "\n",
    "#Or overwrite the orginal dataframe\n",
    "df = df.rename(columns={'A': 'Col_A', 'C': 'Col_A'})\n",
    "print(df)"
   ]
  },
  {
   "cell_type": "code",
   "execution_count": null,
   "id": "28111867",
   "metadata": {},
   "outputs": [],
   "source": [
    "#Solution\n",
    "\n"
   ]
  },
  {
   "cell_type": "markdown",
   "id": "5ed864dc",
   "metadata": {},
   "source": [
    "### Question 2-c\n",
    "What else we can do for improving the model fit?\n",
    "\n",
    "Here, we can analyse the estimated equation’s residuals by illustrating a scatterplot. This is not the scatterplot of the observations, but the residuals (residuals=observed-predicted). We can create a residual vs. fitted plot by using the `sm.graphics.plot_regress_exog` function from the statsmodels library:"
   ]
  },
  {
   "cell_type": "code",
   "execution_count": null,
   "id": "6eaa488c",
   "metadata": {},
   "outputs": [],
   "source": [
    "model = smf.ols(formula='PeakLoad ~ HighTemp', data=df_powercompany).fit()\n",
    "\n",
    "#define figure size\n",
    "fig = plt.figure(figsize=(12,8))\n",
    "\n",
    "#produce regression plots\n",
    "fig = sm.graphics.plot_regress_exog(model, 'HighTemp', fig=fig)"
   ]
  },
  {
   "cell_type": "markdown",
   "id": "2be28069",
   "metadata": {},
   "source": [
    "The plot of the residuals indicates that there is a nonrandom curved pattern. This suggests estimating a quadratic, using a squared term. Please use `I(Variable**2)` to create a quartric term. "
   ]
  },
  {
   "cell_type": "code",
   "execution_count": null,
   "id": "3767ca8f",
   "metadata": {
    "scrolled": true
   },
   "outputs": [],
   "source": [
    "#Solution\n",
    "\n"
   ]
  },
  {
   "cell_type": "markdown",
   "id": "c82c89cf",
   "metadata": {},
   "source": [
    "### Question 2-d\n",
    "\n",
    "Please use your final equation to predict the peak power load on a summer day with high temperature value of 100 degrees. \n",
    "\n",
    "To predict the out of sample values, use `model.predict(exog=dict(______)`"
   ]
  },
  {
   "cell_type": "code",
   "execution_count": null,
   "id": "1a8da177",
   "metadata": {},
   "outputs": [],
   "source": [
    "#Solution\n",
    "\n"
   ]
  }
 ],
 "metadata": {
  "kernelspec": {
   "display_name": "Python 3 (ipykernel)",
   "language": "python",
   "name": "python3"
  },
  "language_info": {
   "codemirror_mode": {
    "name": "ipython",
    "version": 3
   },
   "file_extension": ".py",
   "mimetype": "text/x-python",
   "name": "python",
   "nbconvert_exporter": "python",
   "pygments_lexer": "ipython3",
   "version": "3.9.7"
  }
 },
 "nbformat": 4,
 "nbformat_minor": 5
}
