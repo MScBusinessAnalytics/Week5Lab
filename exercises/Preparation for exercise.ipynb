{
 "cells": [
  {
   "cell_type": "markdown",
   "id": "36f091b9",
   "metadata": {},
   "source": [
    "# Preparation for exercise\n",
    "\n",
    "You will expect to use the commands here to finish the case study exercise in your hand-on session. \n",
    "\n",
    "A new library we will use is `matplotlib`, which is Python's fundamental plotting library. It is flexible and gives the user full control over all elements of the plots. In this session, we will use a subpackage called `pyplot`of `matplotlib`. \n",
    "\n",
    "Just as we imported a pacakge, but this time we give it an abbreviated name - `matplotlib.pyplot`\n",
    "\n",
    "`seaborn` builds on `matplotlib` by providing a higher-level interface for statistical graphics. It provides an interface to produce prettier and more complex visualizations with fewer lines of code.\n",
    "\n",
    "We can use the `statsmodels` library to perform our simple linear regression. We will use the `formula` API from `statsmodels`."
   ]
  },
  {
   "cell_type": "code",
   "execution_count": null,
   "id": "4453508f",
   "metadata": {
    "scrolled": true
   },
   "outputs": [],
   "source": [
    "# importing all the package we need in this notebook\n",
    "\n",
    "import matplotlib.pyplot as plt\n",
    "import pandas as pd\n",
    "import seaborn as sns\n",
    "import statsmodels.formula.api as smf\n",
    "from statsmodels.formula.api import ols"
   ]
  },
  {
   "attachments": {},
   "cell_type": "markdown",
   "id": "4c44ae14",
   "metadata": {},
   "source": [
    "## Case 1\n",
    "- The manager of the factory wants to get a better understanding of overhead costs. \n",
    "- Some of these overhead costs are fixed in the sense that they do not vary appreciably with the volume of work being done, whereas others are variable and do vary directly with the volume of work. \n",
    "- The fixed overhead costs tend to come from the supervision, depreciation, and miscellaneous categories, whereas the variable overhead costs tend to come from the indirect labor, supplies, payroll taxes, and overtime categories. \n",
    "- However, it is not easy to draw a clear line between the fixed and variable overhead components.\n",
    "- Machine Hours: number of machine hours used during the month\n",
    "- Production Runs: the number of separate production runs during the month\n",
    "\n",
    "### Simple Scatterplot\n",
    "\n",
    "Please note that scatter plots are used when a continous variable is plotted against another continuous variable. "
   ]
  },
  {
   "cell_type": "code",
   "execution_count": null,
   "id": "0d539b3c",
   "metadata": {},
   "outputs": [],
   "source": [
    "# create a dataframe named df_listing1 from a raw csv file \n",
    "\n",
    "df_listing1 = pd.read_csv('../data/Lecture_2_Overhead Costs.csv')\n",
    "\n",
    "# By default plt.plot will generate lines\n",
    "\n",
    "# We pass an 'o' parameter to tell plt.plot to use dots in the digram\n",
    "\n",
    "plt.plot(df_listing1['Machine Hours'], df_listing1['Overhead'], 'o')"
   ]
  },
  {
   "cell_type": "markdown",
   "id": "0a6d2ebf",
   "metadata": {},
   "source": [
    "## Multiple Scatterplots comparison\n",
    "\n",
    "While we could visualise the relationship through scatterplot individually, one at a time, `matplotlib` offers a much handier way to create subplots. That is, you can specify the dimensions of your final figure, and put in smaller plots to fit the specified dimensions. In this way, you can present your results in a single figure, instead of completely separate ones.\n",
    "\n",
    "The `subplot` syntax takes three parameters:\n",
    "\n",
    "1. Number of rows in the figure for subplots\n",
    "\n",
    "2. Number of columns in the figure for subplots\n",
    "\n",
    "3. Subplot location"
   ]
  },
  {
   "cell_type": "code",
   "execution_count": null,
   "id": "10560b52",
   "metadata": {},
   "outputs": [],
   "source": [
    "fig = plt.figure()\n",
    "fig.set_size_inches(11, 20)\n",
    "fig.set_dpi(100)\n",
    "axes1 = fig.add_subplot(3,1,1)\n",
    "axes2 = fig.add_subplot(3,1,2)\n",
    "axes3 = fig.add_subplot(3,1,3)\n",
    "\n",
    "axes1.plot(df_listing1['Machine Hours'], df_listing1['Overhead'], 'o')\n",
    "axes2.plot(df_listing1['Production Runs'], df_listing1['Overhead'], 'o')\n",
    "axes3.plot(df_listing1['Production Runs'], df_listing1['Machine Hours'], 'o')\n",
    "\n",
    "axes1.set_title('Scatterplot of Overhead Versus Machine Hours', pad=30, fontsize=20)\n",
    "axes1.set_xlabel('Machine Hours', fontsize=15)\n",
    "axes1.set_ylabel('Overhead', fontsize=15)\n",
    "\n",
    "axes2.set_title('Scatterplot of Overhead Versus Production Runs', pad=30, fontsize=20)\n",
    "axes2.set_xlabel('Production Runs', fontsize=15)\n",
    "axes2.set_ylabel('Overhead', fontsize=15)\n",
    "\n",
    "axes3.set_title('Scatterplot of Machine Hours Versus Production Runs', pad=30, fontsize=20)\n",
    "axes3.set_xlabel('Machine Hours', fontsize=15)\n",
    "axes3.set_ylabel('Production Runs', fontsize=15)\n",
    "\n",
    "plt.subplots_adjust(wspace=0.4, \n",
    "                    hspace=0.4)\n",
    "plt.show()\n"
   ]
  },
  {
   "cell_type": "markdown",
   "id": "a7d0cf56",
   "metadata": {},
   "source": [
    "## Pearson Correlation\n",
    "\n",
    "The syntax we will use to obtain the correlation measures is `DataFrame.corr()` as we defined the dataframe in this example as df_listing1. Therefore the command we used is `df_listing1.corr()`. Here, the method of pearson is used."
   ]
  },
  {
   "cell_type": "code",
   "execution_count": null,
   "id": "41a2244a",
   "metadata": {},
   "outputs": [],
   "source": [
    "df_listing1.corr(method ='pearson')"
   ]
  },
  {
   "attachments": {},
   "cell_type": "markdown",
   "id": "94114a7e",
   "metadata": {},
   "source": [
    "## Case 2\n",
    "\n",
    "Pharmex has collected data from 50 randomly selected metropolitan regions. There are two variables: Pharmex’s promotional expenditures as a percentage of those of the leading competitor (“Promote”) and Pharmex’s sales as a percentage of those of the leading competitor (“Sales”).\n",
    "\n",
    "Objective:\n",
    "- Using a scatterplot to examine the relationship between promotional expenditures and sales at Pharmex.\n",
    "- Find the least squares line for sales as a function of promotional expenses at Pharmex.\n",
    "- Interpret the model fit of the regression model.\n",
    "\n",
    "### Scatterplot Regression Lines - Drugstore Data\n",
    "\n",
    "The `seaborn` library is sued to plot two variables. Different with the `matplotlib`, we use `regplot` command in `seaborn` library. It will plot a scatterplot and also fit a regression line. "
   ]
  },
  {
   "cell_type": "code",
   "execution_count": null,
   "id": "ba33f4b6",
   "metadata": {},
   "outputs": [],
   "source": [
    "df_listing2 = pd.read_csv('../data/Lecture_1_Drugstore Sales.csv')\n",
    "scatter, ax = plt.subplots()\n",
    "ax = sns.regplot(x='Promote',y='Sales',data=df_listing2)\n",
    "plt.show()"
   ]
  },
  {
   "attachments": {},
   "cell_type": "markdown",
   "id": "2bcbe11b",
   "metadata": {},
   "source": [
    "## Case 3\n",
    "\n",
    "Fifth National Bank of Springfield is facing a gender discrimination suit. The charge is that its female employees receive substantially smaller slaries than its male employees. The bank’s employee data are listed in the file of Bank Slaries.csv. For each of its 208 employees, the data includes variables:\n",
    "\n",
    "- Education: education level, a categorical variable with categories1(Fnished high school), 2(Fnished some college courses), 3(obtained a bachelor’s degree), 4(took some graduate courses), 5(obtained a graduate degree)•\n",
    "- Grade: a categorical variable indicating the current job level, the possible levels being1through6(6is highest)\n",
    "- Years1: years of experience with this bank\n",
    "- Years2: number of years of work experience at another bank prior to working at Fifth National• \n",
    "- Age: employee’s current age\n",
    "- Gender: a categorical variable with values “Female” and “Male”\n",
    "- PC Job: a categorical yes/no variable depending on whether the employee’s current job is computer-related\n",
    "- Salary: current annual salary\n",
    "\n",
    "Objective:\n",
    "To analyse whether the bank discriminates against females in terms of salary.\n",
    "\n",
    "### Simple Linear Regression\n",
    "\n",
    "To perform  simple linear regression, we use the `ols` function, which computes the ordinary least squares value; it is one method to estimate parameters in a linear regression. Recall that the formula for a line is y = mx + b, where y is our response variable, x is our predictor, b is the intercept, and m is the slope, the parameter we are estimating.\n",
    "\n",
    "The formula notation has two parts, separated by a tilde, ~. To the left of the tilde is the response variable, and to the right of the tilde is the predictor."
   ]
  },
  {
   "cell_type": "code",
   "execution_count": null,
   "id": "f54582e3",
   "metadata": {},
   "outputs": [],
   "source": [
    "model = smf.ols(formula='Sales ~ Promote', data=df_listing2)\n",
    "results = model.fit()\n",
    "print(results.summary())"
   ]
  },
  {
   "cell_type": "markdown",
   "id": "7f5d377e",
   "metadata": {},
   "source": [
    "## Multiple Regression\n",
    "\n",
    "Fitting a multiple regression model to a data set is very similar to fitting a simple linear regression model. Using the formula interface, we “add” the other covariates to the right-hand side."
   ]
  },
  {
   "cell_type": "code",
   "execution_count": null,
   "id": "d94967ec",
   "metadata": {},
   "outputs": [],
   "source": [
    "df_listing3 = pd.read_csv('../data/Lecture_3_Bank Salaries.csv')\n",
    "df_listing3 = pd.get_dummies(df_listing3, columns=['Gender'])"
   ]
  },
  {
   "cell_type": "code",
   "execution_count": null,
   "id": "fe119125",
   "metadata": {},
   "outputs": [],
   "source": [
    "def format_Salary(Salary):\n",
    "    return(int(Salary.replace('$','').replace(',','')))\n",
    "\n",
    "df_listing3['SalaryInt'] = df_listing3['Salary'].apply(format_Salary)\n",
    "\n",
    "model = smf.ols(formula='SalaryInt~Years1+Years2+Gender_Female', data=df_listing3)\n",
    "results = model.fit()\n",
    "print(results.summary())"
   ]
  },
  {
   "cell_type": "markdown",
   "id": "d2646279",
   "metadata": {},
   "source": [
    "## Interaction analysis\n",
    "\n",
    "`Seaborn` also combines simple statistics fits with plotting on pandas dataframe. We can use the dummy varible of Gender_Female as hue to plotted the relationship between working experience and salary"
   ]
  },
  {
   "cell_type": "code",
   "execution_count": null,
   "id": "6feca72d",
   "metadata": {},
   "outputs": [],
   "source": [
    "model = smf.ols(formula='SalaryInt~Years1+Gender_Female+Years1:Gender_Female', data=df_listing3)\n",
    "results = model.fit()\n",
    "print(results.summary())\n",
    "\n",
    "#Illustrating the relationships and the dummy variables can be plotted as the hue\n",
    "\n",
    "sns.pairplot(data=df_listing3, vars=['Years1', 'SalaryInt'], kind='reg', hue='Gender_Female')"
   ]
  }
 ],
 "metadata": {
  "kernelspec": {
   "display_name": "Python 3 (ipykernel)",
   "language": "python",
   "name": "python3"
  },
  "language_info": {
   "codemirror_mode": {
    "name": "ipython",
    "version": 3
   },
   "file_extension": ".py",
   "mimetype": "text/x-python",
   "name": "python",
   "nbconvert_exporter": "python",
   "pygments_lexer": "ipython3",
   "version": "3.9.7"
  }
 },
 "nbformat": 4,
 "nbformat_minor": 5
}
